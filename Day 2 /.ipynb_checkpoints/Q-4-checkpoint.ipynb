{
 "cells": [
  {
   "cell_type": "markdown",
   "metadata": {},
   "source": [
    "# Question - 4"
   ]
  },
  {
   "cell_type": "markdown",
   "metadata": {},
   "source": [
    "**Welcome to the Fourth question of Quantum Challenge India!**\n",
    "\n",
    "\n",
    "## Q - Initialize the state $|1\\rangle$ and measure it in the basis $(|\\circlearrowleft\\rangle$, $|\\circlearrowright\n",
    "\\rangle)$\n",
    "<h2>\n",
    "<center>\n",
    "$|\\circlearrowleft\\rangle = \\frac{1}{\\sqrt{2}}(|0\\rangle+i|1\\rangle)$\n",
    "<br>\n",
    "$|\\circlearrowright\\rangle = \\frac{1}{\\sqrt{2}}(|0\\rangle-i|1\\rangle)$\n",
    "</center>\n",
    "</h2>"
   ]
  },
  {
   "cell_type": "markdown",
   "metadata": {},
   "source": [
    "**Correct circuit:**\n",
    "```python\n",
    "def build_state():\n",
    "    circuit.initialize([0,1],0)\n",
    "    circuit.sdg(0)\n",
    "    circuit.h(0)\n",
    "    return circuit\n",
    "```"
   ]
  },
  {
   "cell_type": "code",
   "execution_count": 1,
   "metadata": {},
   "outputs": [],
   "source": [
    "%matplotlib inline\n",
    "# Importing standard Qiskit libraries and configuring account\n",
    "from qiskit import QuantumCircuit, execute, Aer, IBMQ\n",
    "from qiskit.compiler import transpile, assemble\n",
    "from qiskit.tools.jupyter import *\n",
    "from qiskit.visualization import *\n",
    "import numpy as np"
   ]
  },
  {
   "cell_type": "code",
   "execution_count": 12,
   "metadata": {},
   "outputs": [],
   "source": [
    "def build_state():\n",
    "    # WRITE YOUR CODE HERE\n",
    "    \n",
    "    # create a quantum circuit on one qubit\n",
    "    circuit = QuantumCircuit(1)\n",
    "    \n",
    "    # apply necessary gates\n",
    "    circuit.initialize([0,1],0)\n",
    "    circuit.sdg(0)\n",
    "    circuit.h(0)\n",
    "    \n",
    "    # WRITE YOUR CODE HERE\n",
    "    return circuit"
   ]
  },
  {
   "cell_type": "markdown",
   "metadata": {},
   "source": [
    "**Circuit Diagram**"
   ]
  },
  {
   "cell_type": "code",
   "execution_count": 13,
   "metadata": {},
   "outputs": [
    {
     "data": {
      "text/html": [
       "<pre style=\"word-wrap: normal;white-space: pre;background: #fff0;line-height: 1.1;font-family: &quot;Courier New&quot;,Courier,monospace\">        ┌─────────────────┐┌─────┐┌───┐ ░ ┌─┐\n",
       "   q_0: ┤ initialize(0,1) ├┤ SDG ├┤ H ├─░─┤M├\n",
       "        └─────────────────┘└─────┘└───┘ ░ └╥┘\n",
       "meas_0: ═══════════════════════════════════╩═\n",
       "                                             </pre>"
      ],
      "text/plain": [
       "        ┌─────────────────┐┌─────┐┌───┐ ░ ┌─┐\n",
       "   q_0: ┤ initialize(0,1) ├┤ SDG ├┤ H ├─░─┤M├\n",
       "        └─────────────────┘└─────┘└───┘ ░ └╥┘\n",
       "meas_0: ═══════════════════════════════════╩═\n",
       "                                             "
      ]
     },
     "execution_count": 13,
     "metadata": {},
     "output_type": "execute_result"
    }
   ],
   "source": [
    "my_circuit = build_state()\n",
    "my_circuit.measure_all()\n",
    "my_circuit.draw()"
   ]
  },
  {
   "cell_type": "markdown",
   "metadata": {},
   "source": [
    "**Bloch Sphere**"
   ]
  },
  {
   "cell_type": "code",
   "execution_count": 14,
   "metadata": {},
   "outputs": [
    {
     "data": {
      "image/png": "[encoded data removed]",
      "text/plain": [
       "<Figure size 504x360 with 1 Axes>"
      ]
     },
     "execution_count": 14,
     "metadata": {},
     "output_type": "execute_result"
    }
   ],
   "source": [
    "backend = Aer.get_backend(\"qasm_simulator\")\n",
    "job = execute(my_circuit,backend=backend, shots =1024)\n",
    "counts = job.result().get_counts()\n",
    "plot_histogram(counts)"
   ]
  },
  {
   "cell_type": "markdown",
   "metadata": {},
   "source": [
    "## Grading function"
   ]
  },
  {
   "cell_type": "code",
   "execution_count": 15,
   "metadata": {},
   "outputs": [],
   "source": [
    "import numpy as np\n",
    "from qiskit import Aer, execute, QuantumCircuit\n",
    "from qiskit.quantum_info import Statevector\n",
    "    \n",
    "def check_function1(answer, verbose=True):\n",
    "    mark = 0\n",
    "    result_msg = ''\n",
    "    if answer is None:\n",
    "        result_msg += 'Provided input is None. Please provide a QuantumCircuit' if verbose else ''\n",
    "    elif not isinstance(answer, QuantumCircuit):\n",
    "        result_msg += 'Provided input should be a QuantumCircuit not (%s)' % \\\n",
    "                      type(answer) if verbose else ''\n",
    "    else:\n",
    "        backend = Aer.get_backend('statevector_simulator')\n",
    "        answer_job = execute(answer,backend = backend)\n",
    "        answer_statevector_np = answer_job.result().get_statevector()\n",
    "        answer_ops = answer.count_ops()\n",
    "        answer_statevector = Statevector(answer_statevector_np)\n",
    "        \n",
    "        correct_circuit = QuantumCircuit(1)\n",
    "        correct_circuit.initialize([0,1],0)\n",
    "        correct_circuit.sdg(0)\n",
    "        correct_circuit.h(0)\n",
    "        correct_job = execute(correct_circuit,backend = backend)\n",
    "        correct_statevector_np = correct_job.result().get_statevector()\n",
    "        correct_ops = correct_circuit.count_ops()\n",
    "        correct_statevector = Statevector(correct_statevector_np)\n",
    "        if answer_statevector.equiv(correct_statevector):\n",
    "            result_msg = '🎉 Question 1 is  Correct!' if verbose else ''\n",
    "            mark = 1\n",
    "        else:\n",
    "            result_msg = '❌ Question 1 is  Incorrect. Input state doesnt match requested state' if verbose else ''\n",
    "    return result_msg, mark"
   ]
  },
  {
   "cell_type": "markdown",
   "metadata": {},
   "source": [
    "## Grading"
   ]
  },
  {
   "cell_type": "code",
   "execution_count": 16,
   "metadata": {},
   "outputs": [
    {
     "name": "stdout",
     "output_type": "stream",
     "text": [
      "🎉 Question 1 is  Correct!\n"
     ]
    }
   ],
   "source": [
    "result_message, is_correct = check_function1(build_state())\n",
    "print(result_message)"
   ]
  },
  {
   "cell_type": "code",
   "execution_count": null,
   "metadata": {},
   "outputs": [],
   "source": []
  }
 ],
 "metadata": {
  "kernelspec": {
   "display_name": "Python 3",
   "language": "python",
   "name": "python3"
  },
  "language_info": {
   "codemirror_mode": {
    "name": "ipython",
    "version": 3
   },
   "file_extension": ".py",
   "mimetype": "text/x-python",
   "name": "python",
   "nbconvert_exporter": "python",
   "pygments_lexer": "ipython3",
   "version": "3.8.3"
  }
 },
 "nbformat": 4,
 "nbformat_minor": 4
}
